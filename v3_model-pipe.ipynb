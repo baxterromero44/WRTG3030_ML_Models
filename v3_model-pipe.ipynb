{
 "cells": [
  {
   "cell_type": "code",
   "execution_count": 6,
   "id": "91a44965-e55a-4c94-82ec-60caa77840db",
   "metadata": {},
   "outputs": [
    {
     "name": "stdout",
     "output_type": "stream",
     "text": [
      "Average Accuracy: 0.7458483208594102\n"
     ]
    }
   ],
   "source": [
    "from sklearn.model_selection import cross_val_score\n",
    "from sklearn.linear_model import LogisticRegression\n",
    "from sklearn.preprocessing import StandardScaler\n",
    "from sklearn.decomposition import PCA\n",
    "import pandas as pd\n",
    "\n",
    "def preprocess_and_train_with_cv(file_name, cv_splits):\n",
    "    # Load the dataset from CSV file into a DataFrame\n",
    "    df = pd.read_csv(file_name)\n",
    "\n",
    "    # Handle missing values\n",
    "    df['TotalCharges'] = pd.to_numeric(df['TotalCharges'], errors='coerce')\n",
    "    df['TotalCharges'].fillna(df['TotalCharges'].median(), inplace=True)\n",
    "\n",
    "    # Convert 'Churn' category from 'Yes' and 'No' to 1 and 0\n",
    "    df['Churn'] = df['Churn'].map({'Yes': 1, 'No': 0})\n",
    "\n",
    "    # Separate numerical and categorical variables\n",
    "    numerical_columns = df.select_dtypes(include=['int64', 'float64']).columns\n",
    "\n",
    "    # Standardize numerical features (excluding 'Churn') using z-scores\n",
    "    scaler = StandardScaler()\n",
    "    df[numerical_columns.drop('Churn')] = scaler.fit_transform(df[numerical_columns.drop('Churn')])\n",
    "\n",
    "    # Perform PCA\n",
    "    pca = PCA(n_components=2)\n",
    "    pca_data = pca.fit_transform(df[numerical_columns.drop('Churn')])\n",
    "\n",
    "    # Convert PCA data to DataFrame\n",
    "    df_pca = pd.DataFrame(data=pca_data, columns=['PC1', 'PC2'])\n",
    "\n",
    "    # Concatenate PCA data with encoded categorical columns\n",
    "    X = df_pca\n",
    "    y = df['Churn']\n",
    "\n",
    "    # Initialize the logistic regression model\n",
    "    model = LogisticRegression(max_iter=1000)\n",
    "\n",
    "    # Perform cross-validation\n",
    "    scores = cross_val_score(model, X, y, cv=cv_splits)\n",
    "\n",
    "    # Calculate the average accuracy score from cross-validation\n",
    "    avg_accuracy = scores.mean()\n",
    "\n",
    "    return avg_accuracy\n",
    "\n",
    "# Example usage:\n",
    "file_name = 'WA_Fn-UseC_-Telco-Customer-Churn.csv'\n",
    "cv_splits = 5  # Number of cross-validation splits\n",
    "average_accuracy = preprocess_and_train_with_cv(file_name, cv_splits)\n",
    "print(\"Average Accuracy:\", average_accuracy)\n"
   ]
  },
  {
   "cell_type": "code",
   "execution_count": 7,
   "id": "f0f1c205-b6fb-48bb-a5ea-984c284286bd",
   "metadata": {},
   "outputs": [
    {
     "ename": "NameError",
     "evalue": "name 'plt' is not defined",
     "output_type": "error",
     "traceback": [
      "\u001b[0;31m---------------------------------------------------------------------------\u001b[0m",
      "\u001b[0;31mNameError\u001b[0m                                 Traceback (most recent call last)",
      "Cell \u001b[0;32mIn[7], line 6\u001b[0m\n\u001b[1;32m      3\u001b[0m f1_scores \u001b[38;5;241m=\u001b[39m [\u001b[38;5;241m0.5311\u001b[39m, \u001b[38;5;241m0.7258\u001b[39m, \u001b[38;5;241m0.7458\u001b[39m]\n\u001b[1;32m      5\u001b[0m \u001b[38;5;66;03m# Create a bar plot\u001b[39;00m\n\u001b[0;32m----> 6\u001b[0m \u001b[43mplt\u001b[49m\u001b[38;5;241m.\u001b[39mfigure(figsize\u001b[38;5;241m=\u001b[39m(\u001b[38;5;241m8\u001b[39m, \u001b[38;5;241m6\u001b[39m))\n\u001b[1;32m      7\u001b[0m plt\u001b[38;5;241m.\u001b[39mbar(versions, f1_scores, color\u001b[38;5;241m=\u001b[39m[\u001b[38;5;124m'\u001b[39m\u001b[38;5;124mblue\u001b[39m\u001b[38;5;124m'\u001b[39m, \u001b[38;5;124m'\u001b[39m\u001b[38;5;124mgreen\u001b[39m\u001b[38;5;124m'\u001b[39m, \u001b[38;5;124m'\u001b[39m\u001b[38;5;124morange\u001b[39m\u001b[38;5;124m'\u001b[39m])\n\u001b[1;32m      9\u001b[0m \u001b[38;5;66;03m# Add labels and title\u001b[39;00m\n",
      "\u001b[0;31mNameError\u001b[0m: name 'plt' is not defined"
     ]
    }
   ],
   "source": [
    "\n",
    "# F1 scores for the three versions\n",
    "versions = ['V1', 'V2', 'V3']\n",
    "f1_scores = [0.5311, 0.7258, 0.7458]\n",
    "\n",
    "# Create a bar plot\n",
    "plt.figure(figsize=(8, 6))\n",
    "plt.bar(versions, f1_scores, color=['blue', 'green', 'orange'])\n",
    "\n",
    "# Add labels and title\n",
    "plt.xlabel('Versions')\n",
    "plt.ylabel('F1 Score')\n",
    "plt.title('F1 Scores for Different Versions')\n",
    "\n",
    "# Show the plot\n",
    "plt.show()"
   ]
  },
  {
   "cell_type": "code",
   "execution_count": null,
   "id": "cd901193-0a02-4fc0-a9fa-32ae9b82a402",
   "metadata": {},
   "outputs": [],
   "source": []
  }
 ],
 "metadata": {
  "kernelspec": {
   "display_name": "Python 3 (ipykernel)",
   "language": "python",
   "name": "python3"
  },
  "language_info": {
   "codemirror_mode": {
    "name": "ipython",
    "version": 3
   },
   "file_extension": ".py",
   "mimetype": "text/x-python",
   "name": "python",
   "nbconvert_exporter": "python",
   "pygments_lexer": "ipython3",
   "version": "3.10.8"
  }
 },
 "nbformat": 4,
 "nbformat_minor": 5
}
