{
 "cells": [
  {
   "cell_type": "code",
   "execution_count": 3,
   "id": "d4769488-ea5f-4c64-9822-485e5333a9f6",
   "metadata": {},
   "outputs": [
    {
     "name": "stdout",
     "output_type": "stream",
     "text": [
      "Average Accuracy: 0.7909990160655526\n"
     ]
    }
   ],
   "source": [
    "import pandas as pd\n",
    "from sklearn.model_selection import cross_val_score\n",
    "from sklearn.linear_model import LogisticRegression\n",
    "from sklearn.preprocessing import StandardScaler\n",
    "\n",
    "def train_and_evaluate_model_with_cv(file_name, target_variable, cv_splits):\n",
    "    # Load the dataset from CSV file into a DataFrame\n",
    "    df = pd.read_csv(file_name)\n",
    "\n",
    "    # Check if the target variable is 'Yes' or 'No' and convert to 1 and 0 if needed\n",
    "    if df[target_variable].dtype == 'object':\n",
    "        df[target_variable] = df[target_variable].map({'Yes': 1, 'No': 0})\n",
    "\n",
    "    for col in df.columns:\n",
    "        if df[col].dtype == 'object':\n",
    "            try:\n",
    "                df[col] = pd.to_numeric(df[col], errors='coerce')\n",
    "                df[col].fillna(0, inplace=True)\n",
    "            except ValueError:\n",
    "                pass  # Column contains non-numeric values\n",
    "\n",
    "    # Separate features (X) and target variable (y)\n",
    "    X = df.drop(target_variable, axis=1)\n",
    "    y = df[target_variable]\n",
    "\n",
    "    # Standardize numerical features using z-scores\n",
    "    scaler = StandardScaler()\n",
    "    X = pd.DataFrame(scaler.fit_transform(X), columns=X.columns)\n",
    "\n",
    "    # Initialize the logistic regression model\n",
    "    model = LogisticRegression(max_iter=100)\n",
    "\n",
    "    # Perform cross-validation\n",
    "    scores = cross_val_score(model, X, y, cv=cv_splits)\n",
    "\n",
    "    # Calculate the average accuracy score from cross-validation\n",
    "    avg_accuracy = scores.mean()\n",
    "\n",
    "    return avg_accuracy\n",
    "\n",
    "# Example usage:\n",
    "file_name = 'WA_Fn-UseC_-Telco-Customer-Churn.csv'\n",
    "target_variable = 'Churn'\n",
    "cv_splits = 5  # Number of cross-validation splits\n",
    "average_accuracy = train_and_evaluate_model_with_cv(file_name, target_variable, cv_splits)\n",
    "print(\"Average Accuracy:\", average_accuracy)\n"
   ]
  },
  {
   "cell_type": "code",
   "execution_count": null,
   "id": "6d924768-fbde-4ce7-993f-7b02dbf41635",
   "metadata": {},
   "outputs": [],
   "source": []
  }
 ],
 "metadata": {
  "kernelspec": {
   "display_name": "Python 3 (ipykernel)",
   "language": "python",
   "name": "python3"
  },
  "language_info": {
   "codemirror_mode": {
    "name": "ipython",
    "version": 3
   },
   "file_extension": ".py",
   "mimetype": "text/x-python",
   "name": "python",
   "nbconvert_exporter": "python",
   "pygments_lexer": "ipython3",
   "version": "3.10.8"
  }
 },
 "nbformat": 4,
 "nbformat_minor": 5
}
